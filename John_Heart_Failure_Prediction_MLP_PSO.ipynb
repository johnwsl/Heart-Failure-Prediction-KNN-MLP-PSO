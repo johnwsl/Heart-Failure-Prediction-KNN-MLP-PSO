{
 "cells": [
  {
   "cell_type": "markdown",
   "id": "3c4e6afc",
   "metadata": {},
   "source": [
    "# Heart Failure Prediction - MLP - PSO"
   ]
  },
  {
   "cell_type": "code",
   "execution_count": 1,
   "id": "4b9d9cdf",
   "metadata": {},
   "outputs": [],
   "source": [
    "import pandas as pd\n",
    "import seaborn as sns\n",
    "import random\n",
    "import matplotlib.pyplot as plt\n",
    "from sklearn.preprocessing import LabelEncoder \n",
    "from sklearn.model_selection import train_test_split\n",
    "from sklearn.neighbors import KNeighborsClassifier\n",
    "from sklearn.metrics import classification_report\n",
    "from sklearn.model_selection import GridSearchCV\n",
    "from sklearn.neighbors import KNeighborsClassifier as knn\n",
    "from sklearn.neural_network import MLPClassifier\n",
    "import numpy as np\n",
    "import pyswarms as ps\n",
    "from pyswarms.single.global_best import GlobalBestPSO"
   ]
  },
  {
   "cell_type": "code",
   "execution_count": 2,
   "id": "f47a3b37",
   "metadata": {},
   "outputs": [
    {
     "data": {
      "text/html": [
       "<div>\n",
       "<style scoped>\n",
       "    .dataframe tbody tr th:only-of-type {\n",
       "        vertical-align: middle;\n",
       "    }\n",
       "\n",
       "    .dataframe tbody tr th {\n",
       "        vertical-align: top;\n",
       "    }\n",
       "\n",
       "    .dataframe thead th {\n",
       "        text-align: right;\n",
       "    }\n",
       "</style>\n",
       "<table border=\"1\" class=\"dataframe\">\n",
       "  <thead>\n",
       "    <tr style=\"text-align: right;\">\n",
       "      <th></th>\n",
       "      <th>Age</th>\n",
       "      <th>Sex</th>\n",
       "      <th>ChestPainType</th>\n",
       "      <th>RestingBP</th>\n",
       "      <th>Cholesterol</th>\n",
       "      <th>FastingBS</th>\n",
       "      <th>RestingECG</th>\n",
       "      <th>MaxHR</th>\n",
       "      <th>ExerciseAngina</th>\n",
       "      <th>Oldpeak</th>\n",
       "      <th>ST_Slope</th>\n",
       "      <th>HeartDisease</th>\n",
       "    </tr>\n",
       "  </thead>\n",
       "  <tbody>\n",
       "    <tr>\n",
       "      <th>0</th>\n",
       "      <td>40</td>\n",
       "      <td>M</td>\n",
       "      <td>ATA</td>\n",
       "      <td>140</td>\n",
       "      <td>289</td>\n",
       "      <td>0</td>\n",
       "      <td>Normal</td>\n",
       "      <td>172</td>\n",
       "      <td>N</td>\n",
       "      <td>0.0</td>\n",
       "      <td>Up</td>\n",
       "      <td>0</td>\n",
       "    </tr>\n",
       "    <tr>\n",
       "      <th>1</th>\n",
       "      <td>49</td>\n",
       "      <td>F</td>\n",
       "      <td>NAP</td>\n",
       "      <td>160</td>\n",
       "      <td>180</td>\n",
       "      <td>0</td>\n",
       "      <td>Normal</td>\n",
       "      <td>156</td>\n",
       "      <td>N</td>\n",
       "      <td>1.0</td>\n",
       "      <td>Flat</td>\n",
       "      <td>1</td>\n",
       "    </tr>\n",
       "    <tr>\n",
       "      <th>2</th>\n",
       "      <td>37</td>\n",
       "      <td>M</td>\n",
       "      <td>ATA</td>\n",
       "      <td>130</td>\n",
       "      <td>283</td>\n",
       "      <td>0</td>\n",
       "      <td>ST</td>\n",
       "      <td>98</td>\n",
       "      <td>N</td>\n",
       "      <td>0.0</td>\n",
       "      <td>Up</td>\n",
       "      <td>0</td>\n",
       "    </tr>\n",
       "    <tr>\n",
       "      <th>3</th>\n",
       "      <td>48</td>\n",
       "      <td>F</td>\n",
       "      <td>ASY</td>\n",
       "      <td>138</td>\n",
       "      <td>214</td>\n",
       "      <td>0</td>\n",
       "      <td>Normal</td>\n",
       "      <td>108</td>\n",
       "      <td>Y</td>\n",
       "      <td>1.5</td>\n",
       "      <td>Flat</td>\n",
       "      <td>1</td>\n",
       "    </tr>\n",
       "    <tr>\n",
       "      <th>4</th>\n",
       "      <td>54</td>\n",
       "      <td>M</td>\n",
       "      <td>NAP</td>\n",
       "      <td>150</td>\n",
       "      <td>195</td>\n",
       "      <td>0</td>\n",
       "      <td>Normal</td>\n",
       "      <td>122</td>\n",
       "      <td>N</td>\n",
       "      <td>0.0</td>\n",
       "      <td>Up</td>\n",
       "      <td>0</td>\n",
       "    </tr>\n",
       "  </tbody>\n",
       "</table>\n",
       "</div>"
      ],
      "text/plain": [
       "   Age Sex ChestPainType  RestingBP  Cholesterol  FastingBS RestingECG  MaxHR  \\\n",
       "0   40   M           ATA        140          289          0     Normal    172   \n",
       "1   49   F           NAP        160          180          0     Normal    156   \n",
       "2   37   M           ATA        130          283          0         ST     98   \n",
       "3   48   F           ASY        138          214          0     Normal    108   \n",
       "4   54   M           NAP        150          195          0     Normal    122   \n",
       "\n",
       "  ExerciseAngina  Oldpeak ST_Slope  HeartDisease  \n",
       "0              N      0.0       Up             0  \n",
       "1              N      1.0     Flat             1  \n",
       "2              N      0.0       Up             0  \n",
       "3              Y      1.5     Flat             1  \n",
       "4              N      0.0       Up             0  "
      ]
     },
     "execution_count": 2,
     "metadata": {},
     "output_type": "execute_result"
    }
   ],
   "source": [
    "#https://www.kaggle.com/fedesoriano/heart-failure-prediction\n",
    "df = pd.read_csv ('heart.csv')\n",
    "df.head()"
   ]
  },
  {
   "cell_type": "markdown",
   "id": "db3465c0",
   "metadata": {},
   "source": [
    "## Pré-processamento"
   ]
  },
  {
   "cell_type": "code",
   "execution_count": 3,
   "id": "ab3797a8",
   "metadata": {},
   "outputs": [
    {
     "name": "stdout",
     "output_type": "stream",
     "text": [
      "<class 'pandas.core.frame.DataFrame'>\n",
      "RangeIndex: 918 entries, 0 to 917\n",
      "Data columns (total 12 columns):\n",
      " #   Column          Non-Null Count  Dtype  \n",
      "---  ------          --------------  -----  \n",
      " 0   Age             918 non-null    int64  \n",
      " 1   Sex             918 non-null    object \n",
      " 2   ChestPainType   918 non-null    object \n",
      " 3   RestingBP       918 non-null    int64  \n",
      " 4   Cholesterol     918 non-null    int64  \n",
      " 5   FastingBS       918 non-null    int64  \n",
      " 6   RestingECG      918 non-null    object \n",
      " 7   MaxHR           918 non-null    int64  \n",
      " 8   ExerciseAngina  918 non-null    object \n",
      " 9   Oldpeak         918 non-null    float64\n",
      " 10  ST_Slope        918 non-null    object \n",
      " 11  HeartDisease    918 non-null    int64  \n",
      "dtypes: float64(1), int64(6), object(5)\n",
      "memory usage: 86.2+ KB\n",
      "\n",
      "\n",
      "(918, 12)\n",
      "\n",
      "\n",
      "Qunatidade de dados duplicados 0\n",
      "Qunatidade de dados 'NA': 0\n",
      "\n",
      "\n"
     ]
    },
    {
     "data": {
      "text/plain": [
       "Age                 int64\n",
       "Sex                object\n",
       "ChestPainType      object\n",
       "RestingBP           int64\n",
       "Cholesterol         int64\n",
       "FastingBS           int64\n",
       "RestingECG         object\n",
       "MaxHR               int64\n",
       "ExerciseAngina     object\n",
       "Oldpeak           float64\n",
       "ST_Slope           object\n",
       "HeartDisease        int64\n",
       "dtype: object"
      ]
     },
     "execution_count": 3,
     "metadata": {},
     "output_type": "execute_result"
    }
   ],
   "source": [
    "#Checar status e tipos de variáveis\n",
    "df.info()\n",
    "print('\\n')\n",
    "print(df.shape)\n",
    "print('\\n')\n",
    "#Chegar se existe observações duplicadas. Não existem observações duplicadas.\n",
    "print(\"Qunatidade de dados duplicados\", len(df[df.duplicated()]))\n",
    "#Não existe dados ausentes\n",
    "print(\"Qunatidade de dados 'NA':\", df.isna().sum().sum())\n",
    "print('\\n')\n",
    "# Tipos dos dados\n",
    "df.dtypes"
   ]
  },
  {
   "cell_type": "code",
   "execution_count": 4,
   "id": "b72c94c2",
   "metadata": {},
   "outputs": [
    {
     "data": {
      "text/html": [
       "<div>\n",
       "<style scoped>\n",
       "    .dataframe tbody tr th:only-of-type {\n",
       "        vertical-align: middle;\n",
       "    }\n",
       "\n",
       "    .dataframe tbody tr th {\n",
       "        vertical-align: top;\n",
       "    }\n",
       "\n",
       "    .dataframe thead th {\n",
       "        text-align: right;\n",
       "    }\n",
       "</style>\n",
       "<table border=\"1\" class=\"dataframe\">\n",
       "  <thead>\n",
       "    <tr style=\"text-align: right;\">\n",
       "      <th></th>\n",
       "      <th>Age</th>\n",
       "      <th>RestingBP</th>\n",
       "      <th>Cholesterol</th>\n",
       "      <th>FastingBS</th>\n",
       "      <th>MaxHR</th>\n",
       "      <th>Oldpeak</th>\n",
       "      <th>HeartDisease</th>\n",
       "    </tr>\n",
       "  </thead>\n",
       "  <tbody>\n",
       "    <tr>\n",
       "      <th>count</th>\n",
       "      <td>918.000000</td>\n",
       "      <td>918.000000</td>\n",
       "      <td>918.000000</td>\n",
       "      <td>918.000000</td>\n",
       "      <td>918.000000</td>\n",
       "      <td>918.000000</td>\n",
       "      <td>918.000000</td>\n",
       "    </tr>\n",
       "    <tr>\n",
       "      <th>mean</th>\n",
       "      <td>53.510893</td>\n",
       "      <td>132.396514</td>\n",
       "      <td>198.799564</td>\n",
       "      <td>0.233115</td>\n",
       "      <td>136.809368</td>\n",
       "      <td>0.887364</td>\n",
       "      <td>0.553377</td>\n",
       "    </tr>\n",
       "    <tr>\n",
       "      <th>std</th>\n",
       "      <td>9.432617</td>\n",
       "      <td>18.514154</td>\n",
       "      <td>109.384145</td>\n",
       "      <td>0.423046</td>\n",
       "      <td>25.460334</td>\n",
       "      <td>1.066570</td>\n",
       "      <td>0.497414</td>\n",
       "    </tr>\n",
       "    <tr>\n",
       "      <th>min</th>\n",
       "      <td>28.000000</td>\n",
       "      <td>0.000000</td>\n",
       "      <td>0.000000</td>\n",
       "      <td>0.000000</td>\n",
       "      <td>60.000000</td>\n",
       "      <td>-2.600000</td>\n",
       "      <td>0.000000</td>\n",
       "    </tr>\n",
       "    <tr>\n",
       "      <th>25%</th>\n",
       "      <td>47.000000</td>\n",
       "      <td>120.000000</td>\n",
       "      <td>173.250000</td>\n",
       "      <td>0.000000</td>\n",
       "      <td>120.000000</td>\n",
       "      <td>0.000000</td>\n",
       "      <td>0.000000</td>\n",
       "    </tr>\n",
       "    <tr>\n",
       "      <th>50%</th>\n",
       "      <td>54.000000</td>\n",
       "      <td>130.000000</td>\n",
       "      <td>223.000000</td>\n",
       "      <td>0.000000</td>\n",
       "      <td>138.000000</td>\n",
       "      <td>0.600000</td>\n",
       "      <td>1.000000</td>\n",
       "    </tr>\n",
       "    <tr>\n",
       "      <th>75%</th>\n",
       "      <td>60.000000</td>\n",
       "      <td>140.000000</td>\n",
       "      <td>267.000000</td>\n",
       "      <td>0.000000</td>\n",
       "      <td>156.000000</td>\n",
       "      <td>1.500000</td>\n",
       "      <td>1.000000</td>\n",
       "    </tr>\n",
       "    <tr>\n",
       "      <th>max</th>\n",
       "      <td>77.000000</td>\n",
       "      <td>200.000000</td>\n",
       "      <td>603.000000</td>\n",
       "      <td>1.000000</td>\n",
       "      <td>202.000000</td>\n",
       "      <td>6.200000</td>\n",
       "      <td>1.000000</td>\n",
       "    </tr>\n",
       "  </tbody>\n",
       "</table>\n",
       "</div>"
      ],
      "text/plain": [
       "              Age   RestingBP  Cholesterol   FastingBS       MaxHR  \\\n",
       "count  918.000000  918.000000   918.000000  918.000000  918.000000   \n",
       "mean    53.510893  132.396514   198.799564    0.233115  136.809368   \n",
       "std      9.432617   18.514154   109.384145    0.423046   25.460334   \n",
       "min     28.000000    0.000000     0.000000    0.000000   60.000000   \n",
       "25%     47.000000  120.000000   173.250000    0.000000  120.000000   \n",
       "50%     54.000000  130.000000   223.000000    0.000000  138.000000   \n",
       "75%     60.000000  140.000000   267.000000    0.000000  156.000000   \n",
       "max     77.000000  200.000000   603.000000    1.000000  202.000000   \n",
       "\n",
       "          Oldpeak  HeartDisease  \n",
       "count  918.000000    918.000000  \n",
       "mean     0.887364      0.553377  \n",
       "std      1.066570      0.497414  \n",
       "min     -2.600000      0.000000  \n",
       "25%      0.000000      0.000000  \n",
       "50%      0.600000      1.000000  \n",
       "75%      1.500000      1.000000  \n",
       "max      6.200000      1.000000  "
      ]
     },
     "execution_count": 4,
     "metadata": {},
     "output_type": "execute_result"
    }
   ],
   "source": [
    "# Descrição dos dados não-string\n",
    "df.describe()"
   ]
  },
  {
   "cell_type": "code",
   "execution_count": 5,
   "id": "eee88ed3",
   "metadata": {},
   "outputs": [
    {
     "name": "stdout",
     "output_type": "stream",
     "text": [
      "[0 1]\n",
      "[0 1]\n"
     ]
    }
   ],
   "source": [
    "# Nota-se que as variáveis 'FastingBS' e 'HeartDisease' são categóricas\n",
    "print(df['FastingBS'].unique())\n",
    "print(df['HeartDisease'].unique())"
   ]
  },
  {
   "cell_type": "code",
   "execution_count": 6,
   "id": "0b85046a",
   "metadata": {},
   "outputs": [],
   "source": [
    "# Transformar as duas variáveis categóricas 'FastingBS' e 'HeartDisease' numéricas para string\n",
    "df['FastingBS'] = df['FastingBS'].astype(str)\n",
    "df['HeartDisease'] = df['HeartDisease'].astype(str)\n",
    "\n",
    "# A transformação acima apenas foi usada para separar os nomes das colunas entre numéricas não-categóricas \n",
    "# e categóricas (apenas no formato string - objeto)\n",
    "num_cols = [col for col in df.columns if df[col].dtype != \"object\"]\n",
    "cat_cols = [col for col in df.columns if col not in num_cols]"
   ]
  },
  {
   "cell_type": "code",
   "execution_count": 7,
   "id": "eaae4ed7",
   "metadata": {},
   "outputs": [
    {
     "data": {
      "image/png": "[encoded data removed]",
      "text/plain": [
       "<Figure size 432x288 with 1 Axes>"
      ]
     },
     "metadata": {
      "needs_background": "light"
     },
     "output_type": "display_data"
    },
    {
     "data": {
      "image/png": "[encoded data removed]",
      "text/plain": [
       "<Figure size 432x288 with 1 Axes>"
      ]
     },
     "metadata": {
      "needs_background": "light"
     },
     "output_type": "display_data"
    },
    {
     "data": {
      "image/png": "[encoded data removed]",
      "text/plain": [
       "<Figure size 432x288 with 1 Axes>"
      ]
     },
     "metadata": {
      "needs_background": "light"
     },
     "output_type": "display_data"
    },
    {
     "data": {
      "image/png": "[encoded data removed]",
      "text/plain": [
       "<Figure size 432x288 with 1 Axes>"
      ]
     },
     "metadata": {
      "needs_background": "light"
     },
     "output_type": "display_data"
    },
    {
     "data": {
      "image/png": "[encoded data removed]",
      "text/plain": [
       "<Figure size 432x288 with 1 Axes>"
      ]
     },
     "metadata": {
      "needs_background": "light"
     },
     "output_type": "display_data"
    }
   ],
   "source": [
    "# Detectar outliers de variáveis não-categóricas\n",
    "for col in num_cols:\n",
    "    sns.boxplot(y = col , data = df)\n",
    "    plt.show()"
   ]
  },
  {
   "cell_type": "code",
   "execution_count": 8,
   "id": "c3a5270f",
   "metadata": {},
   "outputs": [
    {
     "name": "stdout",
     "output_type": "stream",
     "text": [
      "Variável: Sex ->  ['M' 'F']\n",
      "\n",
      "\n",
      "Variável: ChestPainType ->  ['ATA' 'NAP' 'ASY' 'TA']\n",
      "\n",
      "\n",
      "Variável: FastingBS ->  ['0' '1']\n",
      "\n",
      "\n",
      "Variável: RestingECG ->  ['Normal' 'ST' 'LVH']\n",
      "\n",
      "\n",
      "Variável: ExerciseAngina ->  ['N' 'Y']\n",
      "\n",
      "\n",
      "Variável: ST_Slope ->  ['Up' 'Flat' 'Down']\n",
      "\n",
      "\n",
      "Variável: HeartDisease ->  ['0' '1']\n",
      "\n",
      "\n"
     ]
    }
   ],
   "source": [
    "# Detectar outliers de variáveis categóricas\n",
    "for col in cat_cols:\n",
    "    print(\"Variável: \"+col+\" -> \",df[col].unique())\n",
    "    print('\\n')"
   ]
  },
  {
   "cell_type": "markdown",
   "id": "1ccffbce",
   "metadata": {},
   "source": [
    "### Análise de Outliers e Imputação de Dados\n",
    "\n",
    "####  As variáveis não-categóricas 'RestingBP' e 'Cholesterol' apresentam outliers \"estranhos\"."
   ]
  },
  {
   "cell_type": "code",
   "execution_count": 9,
   "id": "62e049ca",
   "metadata": {},
   "outputs": [
    {
     "name": "stdout",
     "output_type": "stream",
     "text": [
      "1\n"
     ]
    }
   ],
   "source": [
    "# A variável 'RestingBP', que guarda dados sobre pressão sanguínea, possui um valor com pressão zero\n",
    "# Esse valor não faz sentido\n",
    "print(len(df[df['RestingBP']==0]))\n",
    "\n",
    "row = df[df['RestingBP']==0].index\n",
    "df = df.drop(df.index[row])"
   ]
  },
  {
   "cell_type": "code",
   "execution_count": 10,
   "id": "51cc8f6b",
   "metadata": {},
   "outputs": [
    {
     "name": "stdout",
     "output_type": "stream",
     "text": [
      "171\n"
     ]
    },
    {
     "data": {
      "text/plain": [
       "\"\\nmedian_values = df['Cholesterol'].median()\\nrow = df[df['Cholesterol']==0].index\\ndf.loc[row, 'Cholesterol'] = median_values\\n\""
      ]
     },
     "execution_count": 10,
     "metadata": {},
     "output_type": "execute_result"
    }
   ],
   "source": [
    "# Muitos dados da variável 'Cholesterol' apresentam valor de colesterol zero.\n",
    "# É estranho esse dado. Alguma pessoa viva tem colesterol zero? \n",
    "print(len(df[df['Cholesterol']==0]))\n",
    "\n",
    "# Será usado o método de imputação IQR = Q3 – Q1 \n",
    "# Os dados da variável 'Cholesterol' será substituida\n",
    "# pelo número aleatório entre o limite inferior (Q1) e o limite superior(Q3).\n",
    "IQR = np.percentile(df[\"Cholesterol\"],75) - np.percentile(df[\"Cholesterol\"],25)\n",
    "lower_bound = np.percentile(df[\"Cholesterol\"],25) - 1.5 * IQR\n",
    "upper_bound = np.percentile(df[\"Cholesterol\"],75) + 1.5 * IQR\n",
    "median_cholesterol = np.median(df[\"Cholesterol\"])\n",
    "\n",
    "df[\"Cholesterol\"] = np.where(((df[\"Cholesterol\"] > upper_bound) | (df[\"Cholesterol\"] < lower_bound)) \n",
    "                                 ,random.randint(int(np.percentile(df[\"Cholesterol\"],25)),\n",
    "                                                 int(np.percentile(df[\"Cholesterol\"],75))),df[\"Cholesterol\"])\n",
    "\n",
    "\n",
    "'''\n",
    "median_values = df['Cholesterol'].median()\n",
    "row = df[df['Cholesterol']==0].index\n",
    "df.loc[row, 'Cholesterol'] = median_values\n",
    "'''"
   ]
  },
  {
   "cell_type": "markdown",
   "id": "0244f69e",
   "metadata": {},
   "source": [
    "### Encoding - Variáveis Categóricas"
   ]
  },
  {
   "cell_type": "code",
   "execution_count": 11,
   "id": "329a3d96",
   "metadata": {},
   "outputs": [
    {
     "name": "stdout",
     "output_type": "stream",
     "text": [
      "<class 'pandas.core.frame.DataFrame'>\n",
      "Int64Index: 917 entries, 0 to 917\n",
      "Data columns (total 12 columns):\n",
      " #   Column          Non-Null Count  Dtype   \n",
      "---  ------          --------------  -----   \n",
      " 0   Age             917 non-null    int64   \n",
      " 1   Sex             917 non-null    category\n",
      " 2   ChestPainType   917 non-null    category\n",
      " 3   RestingBP       917 non-null    int64   \n",
      " 4   Cholesterol     917 non-null    int64   \n",
      " 5   FastingBS       917 non-null    category\n",
      " 6   RestingECG      917 non-null    category\n",
      " 7   MaxHR           917 non-null    int64   \n",
      " 8   ExerciseAngina  917 non-null    category\n",
      " 9   Oldpeak         917 non-null    float64 \n",
      " 10  ST_Slope        917 non-null    category\n",
      " 11  HeartDisease    917 non-null    int32   \n",
      "dtypes: category(6), float64(1), int32(1), int64(4)\n",
      "memory usage: 52.8 KB\n"
     ]
    }
   ],
   "source": [
    "# Mudando variável do tipo string(objeto) para categorico\n",
    "df['Sex'] = df['Sex'].astype('category')\n",
    "df['ChestPainType'] = df['ChestPainType'].astype('category')\n",
    "df['FastingBS'] = df['FastingBS'].astype('category')\n",
    "df['RestingECG'] = df['RestingECG'].astype('category')\n",
    "df['ExerciseAngina'] = df['ExerciseAngina'].astype('category')\n",
    "df['ST_Slope'] = df['ST_Slope'].astype('category')\n",
    "\n",
    "# Retorna os dados da variável target 'HeartDisease' para o seu tipo original.\n",
    "df['HeartDisease'] = df['HeartDisease'].astype(int)\n",
    "df.info()"
   ]
  },
  {
   "cell_type": "code",
   "execution_count": 12,
   "id": "3c828517",
   "metadata": {},
   "outputs": [
    {
     "data": {
      "text/html": [
       "<div>\n",
       "<style scoped>\n",
       "    .dataframe tbody tr th:only-of-type {\n",
       "        vertical-align: middle;\n",
       "    }\n",
       "\n",
       "    .dataframe tbody tr th {\n",
       "        vertical-align: top;\n",
       "    }\n",
       "\n",
       "    .dataframe thead th {\n",
       "        text-align: right;\n",
       "    }\n",
       "</style>\n",
       "<table border=\"1\" class=\"dataframe\">\n",
       "  <thead>\n",
       "    <tr style=\"text-align: right;\">\n",
       "      <th></th>\n",
       "      <th>Age</th>\n",
       "      <th>Sex</th>\n",
       "      <th>ChestPainType</th>\n",
       "      <th>RestingBP</th>\n",
       "      <th>Cholesterol</th>\n",
       "      <th>FastingBS</th>\n",
       "      <th>RestingECG</th>\n",
       "      <th>MaxHR</th>\n",
       "      <th>ExerciseAngina</th>\n",
       "      <th>Oldpeak</th>\n",
       "      <th>ST_Slope</th>\n",
       "      <th>HeartDisease</th>\n",
       "    </tr>\n",
       "  </thead>\n",
       "  <tbody>\n",
       "    <tr>\n",
       "      <th>0</th>\n",
       "      <td>40</td>\n",
       "      <td>1</td>\n",
       "      <td>1</td>\n",
       "      <td>140</td>\n",
       "      <td>289</td>\n",
       "      <td>0</td>\n",
       "      <td>1</td>\n",
       "      <td>172</td>\n",
       "      <td>0</td>\n",
       "      <td>0.0</td>\n",
       "      <td>2</td>\n",
       "      <td>0</td>\n",
       "    </tr>\n",
       "    <tr>\n",
       "      <th>1</th>\n",
       "      <td>49</td>\n",
       "      <td>0</td>\n",
       "      <td>2</td>\n",
       "      <td>160</td>\n",
       "      <td>180</td>\n",
       "      <td>0</td>\n",
       "      <td>1</td>\n",
       "      <td>156</td>\n",
       "      <td>0</td>\n",
       "      <td>1.0</td>\n",
       "      <td>1</td>\n",
       "      <td>1</td>\n",
       "    </tr>\n",
       "    <tr>\n",
       "      <th>2</th>\n",
       "      <td>37</td>\n",
       "      <td>1</td>\n",
       "      <td>1</td>\n",
       "      <td>130</td>\n",
       "      <td>283</td>\n",
       "      <td>0</td>\n",
       "      <td>2</td>\n",
       "      <td>98</td>\n",
       "      <td>0</td>\n",
       "      <td>0.0</td>\n",
       "      <td>2</td>\n",
       "      <td>0</td>\n",
       "    </tr>\n",
       "    <tr>\n",
       "      <th>3</th>\n",
       "      <td>48</td>\n",
       "      <td>0</td>\n",
       "      <td>0</td>\n",
       "      <td>138</td>\n",
       "      <td>214</td>\n",
       "      <td>0</td>\n",
       "      <td>1</td>\n",
       "      <td>108</td>\n",
       "      <td>1</td>\n",
       "      <td>1.5</td>\n",
       "      <td>1</td>\n",
       "      <td>1</td>\n",
       "    </tr>\n",
       "    <tr>\n",
       "      <th>4</th>\n",
       "      <td>54</td>\n",
       "      <td>1</td>\n",
       "      <td>2</td>\n",
       "      <td>150</td>\n",
       "      <td>195</td>\n",
       "      <td>0</td>\n",
       "      <td>1</td>\n",
       "      <td>122</td>\n",
       "      <td>0</td>\n",
       "      <td>0.0</td>\n",
       "      <td>2</td>\n",
       "      <td>0</td>\n",
       "    </tr>\n",
       "  </tbody>\n",
       "</table>\n",
       "</div>"
      ],
      "text/plain": [
       "   Age  Sex  ChestPainType  RestingBP  Cholesterol  FastingBS  RestingECG  \\\n",
       "0   40    1              1        140          289          0           1   \n",
       "1   49    0              2        160          180          0           1   \n",
       "2   37    1              1        130          283          0           2   \n",
       "3   48    0              0        138          214          0           1   \n",
       "4   54    1              2        150          195          0           1   \n",
       "\n",
       "   MaxHR  ExerciseAngina  Oldpeak  ST_Slope  HeartDisease  \n",
       "0    172               0      0.0         2             0  \n",
       "1    156               0      1.0         1             1  \n",
       "2     98               0      0.0         2             0  \n",
       "3    108               1      1.5         1             1  \n",
       "4    122               0      0.0         2             0  "
      ]
     },
     "execution_count": 12,
     "metadata": {},
     "output_type": "execute_result"
    }
   ],
   "source": [
    "# Biblioteca LabelEncoder - sklearn -> para a cadificação dos tipos categoricos.\n",
    "for i in df:\n",
    "    labelencoder= LabelEncoder()\n",
    "    \n",
    "    if df[i].dtype.name == \"category\":\n",
    "        # Codificando e substituindo\n",
    "        df[i] = labelencoder.fit_transform(df[i])\n",
    "        \n",
    "df.head()"
   ]
  },
  {
   "cell_type": "code",
   "execution_count": 13,
   "id": "5aee1dba",
   "metadata": {},
   "outputs": [
    {
     "data": {
      "text/html": [
       "<div>\n",
       "<style scoped>\n",
       "    .dataframe tbody tr th:only-of-type {\n",
       "        vertical-align: middle;\n",
       "    }\n",
       "\n",
       "    .dataframe tbody tr th {\n",
       "        vertical-align: top;\n",
       "    }\n",
       "\n",
       "    .dataframe thead th {\n",
       "        text-align: right;\n",
       "    }\n",
       "</style>\n",
       "<table border=\"1\" class=\"dataframe\">\n",
       "  <thead>\n",
       "    <tr style=\"text-align: right;\">\n",
       "      <th></th>\n",
       "      <th>Age</th>\n",
       "      <th>Sex</th>\n",
       "      <th>ChestPainType</th>\n",
       "      <th>RestingBP</th>\n",
       "      <th>Cholesterol</th>\n",
       "      <th>FastingBS</th>\n",
       "      <th>RestingECG</th>\n",
       "      <th>MaxHR</th>\n",
       "      <th>ExerciseAngina</th>\n",
       "      <th>Oldpeak</th>\n",
       "      <th>ST_Slope</th>\n",
       "      <th>HeartDisease</th>\n",
       "    </tr>\n",
       "  </thead>\n",
       "  <tbody>\n",
       "    <tr>\n",
       "      <th>0</th>\n",
       "      <td>0.244898</td>\n",
       "      <td>1.0</td>\n",
       "      <td>0.333333</td>\n",
       "      <td>0.500000</td>\n",
       "      <td>0.639498</td>\n",
       "      <td>0.0</td>\n",
       "      <td>0.5</td>\n",
       "      <td>0.788732</td>\n",
       "      <td>0.0</td>\n",
       "      <td>0.295455</td>\n",
       "      <td>1.0</td>\n",
       "      <td>0.0</td>\n",
       "    </tr>\n",
       "    <tr>\n",
       "      <th>1</th>\n",
       "      <td>0.428571</td>\n",
       "      <td>0.0</td>\n",
       "      <td>0.666667</td>\n",
       "      <td>0.666667</td>\n",
       "      <td>0.297806</td>\n",
       "      <td>0.0</td>\n",
       "      <td>0.5</td>\n",
       "      <td>0.676056</td>\n",
       "      <td>0.0</td>\n",
       "      <td>0.409091</td>\n",
       "      <td>0.5</td>\n",
       "      <td>1.0</td>\n",
       "    </tr>\n",
       "    <tr>\n",
       "      <th>2</th>\n",
       "      <td>0.183673</td>\n",
       "      <td>1.0</td>\n",
       "      <td>0.333333</td>\n",
       "      <td>0.416667</td>\n",
       "      <td>0.620690</td>\n",
       "      <td>0.0</td>\n",
       "      <td>1.0</td>\n",
       "      <td>0.267606</td>\n",
       "      <td>0.0</td>\n",
       "      <td>0.295455</td>\n",
       "      <td>1.0</td>\n",
       "      <td>0.0</td>\n",
       "    </tr>\n",
       "    <tr>\n",
       "      <th>3</th>\n",
       "      <td>0.408163</td>\n",
       "      <td>0.0</td>\n",
       "      <td>0.000000</td>\n",
       "      <td>0.483333</td>\n",
       "      <td>0.404389</td>\n",
       "      <td>0.0</td>\n",
       "      <td>0.5</td>\n",
       "      <td>0.338028</td>\n",
       "      <td>1.0</td>\n",
       "      <td>0.465909</td>\n",
       "      <td>0.5</td>\n",
       "      <td>1.0</td>\n",
       "    </tr>\n",
       "    <tr>\n",
       "      <th>4</th>\n",
       "      <td>0.530612</td>\n",
       "      <td>1.0</td>\n",
       "      <td>0.666667</td>\n",
       "      <td>0.583333</td>\n",
       "      <td>0.344828</td>\n",
       "      <td>0.0</td>\n",
       "      <td>0.5</td>\n",
       "      <td>0.436620</td>\n",
       "      <td>0.0</td>\n",
       "      <td>0.295455</td>\n",
       "      <td>1.0</td>\n",
       "      <td>0.0</td>\n",
       "    </tr>\n",
       "  </tbody>\n",
       "</table>\n",
       "</div>"
      ],
      "text/plain": [
       "        Age  Sex  ChestPainType  RestingBP  Cholesterol  FastingBS  \\\n",
       "0  0.244898  1.0       0.333333   0.500000     0.639498        0.0   \n",
       "1  0.428571  0.0       0.666667   0.666667     0.297806        0.0   \n",
       "2  0.183673  1.0       0.333333   0.416667     0.620690        0.0   \n",
       "3  0.408163  0.0       0.000000   0.483333     0.404389        0.0   \n",
       "4  0.530612  1.0       0.666667   0.583333     0.344828        0.0   \n",
       "\n",
       "   RestingECG     MaxHR  ExerciseAngina   Oldpeak  ST_Slope  HeartDisease  \n",
       "0         0.5  0.788732             0.0  0.295455       1.0           0.0  \n",
       "1         0.5  0.676056             0.0  0.409091       0.5           1.0  \n",
       "2         1.0  0.267606             0.0  0.295455       1.0           0.0  \n",
       "3         0.5  0.338028             1.0  0.465909       0.5           1.0  \n",
       "4         0.5  0.436620             0.0  0.295455       1.0           0.0  "
      ]
     },
     "execution_count": 13,
     "metadata": {},
     "output_type": "execute_result"
    }
   ],
   "source": [
    "# Normalizando os Dados\n",
    "df=(df-df.min())/(df.max()-df.min())\n",
    "\n",
    "df.head()"
   ]
  },
  {
   "cell_type": "markdown",
   "id": "1ed0b4d8",
   "metadata": {},
   "source": [
    "## MLP  -  GridSearch / PSO"
   ]
  },
  {
   "cell_type": "code",
   "execution_count": 14,
   "id": "fafb369c",
   "metadata": {},
   "outputs": [],
   "source": [
    "# Pegando todas as colunas exceto a coluna target - 'HeartDisease'\n",
    "# Transformando no formato numpy\n",
    "x_data = df.loc[:, df.columns != 'HeartDisease'].to_numpy() \n",
    "# Transformando a coluna 'HeartDisease' para o formato numpy\n",
    "y_data = df['HeartDisease'].to_numpy()"
   ]
  },
  {
   "cell_type": "code",
   "execution_count": 15,
   "id": "2dde8456",
   "metadata": {},
   "outputs": [
    {
     "data": {
      "text/plain": [
       "1.0    507\n",
       "0.0    410\n",
       "Name: HeartDisease, dtype: int64"
      ]
     },
     "execution_count": 15,
     "metadata": {},
     "output_type": "execute_result"
    }
   ],
   "source": [
    "# Distribuição dos valores 'HeartDisease'\n",
    "df['HeartDisease'].value_counts()"
   ]
  },
  {
   "cell_type": "code",
   "execution_count": 16,
   "id": "51c71e88",
   "metadata": {},
   "outputs": [
    {
     "name": "stdout",
     "output_type": "stream",
     "text": [
      "(687, 11) (687,) (230, 11) (230,)\n"
     ]
    }
   ],
   "source": [
    "# Utilizando apenas conjunto de treino e teste.\n",
    "# No knn não faz sentindo ter validação.\n",
    "X_train, X_test, y_train, y_test =  train_test_split(x_data, y_data , random_state=1, test_size=.25)\n",
    "print(X_train.shape, y_train.shape, X_test.shape, y_test.shape )"
   ]
  },
  {
   "cell_type": "markdown",
   "id": "d60b0845",
   "metadata": {},
   "source": [
    "### GridSearch"
   ]
  },
  {
   "cell_type": "code",
   "execution_count": 18,
   "id": "72db46bc",
   "metadata": {},
   "outputs": [
    {
     "name": "stderr",
     "output_type": "stream",
     "text": [
      "C:\\Users\\John\\anaconda3\\envs\\DataScience\\lib\\site-packages\\sklearn\\model_selection\\_search.py:922: UserWarning: One or more of the test scores are non-finite: [       nan        nan 0.84133916 0.84570597        nan        nan\n",
      " 0.84279476 0.84133916        nan        nan 0.84425036 0.84279476\n",
      "        nan        nan 0.84133916 0.8558952         nan        nan\n",
      " 0.83988355 0.84716157        nan        nan 0.84279476 0.84716157\n",
      "        nan        nan 0.83842795 0.82387191        nan        nan\n",
      " 0.83551674 0.81513828        nan        nan 0.83406114 0.80931587\n",
      "        nan        nan 0.83988355 0.84279476        nan        nan\n",
      " 0.84425036 0.82969432        nan        nan 0.84279476 0.83114993]\n",
      "  warnings.warn(\n",
      "C:\\Users\\John\\anaconda3\\envs\\DataScience\\lib\\site-packages\\sklearn\\neural_network\\_multilayer_perceptron.py:614: ConvergenceWarning: Stochastic Optimizer: Maximum iterations (1000) reached and the optimization hasn't converged yet.\n",
      "  warnings.warn(\n"
     ]
    },
    {
     "data": {
      "text/plain": [
       "{'activation': 'tanh',\n",
       " 'alpha': 0.05,\n",
       " 'hidden_layer_sizes': (32, 32),\n",
       " 'learning_rate': 'adaptive',\n",
       " 'solver': 'adam'}"
      ]
     },
     "execution_count": 18,
     "metadata": {},
     "output_type": "execute_result"
    }
   ],
   "source": [
    "mlp = MLPClassifier(max_iter=1000)\n",
    "\n",
    "params = {\n",
    "    'hidden_layer_sizes': [(32,32), (32,64), (64,128)],\n",
    "    'activation': ['tanh', 'relu'],\n",
    "    'solver':['sgd','adam'],\n",
    "    'alpha':[0.0001, 0.05],\n",
    "    'learning_rate': ['constante','adaptive'],\n",
    "}\n",
    "\n",
    "gridS = GridSearchCV(mlp,params,n_jobs=-1,cv=3)\n",
    "grid_result = gridS.fit(X_train,y_train)\n",
    "\n",
    "grid_result.best_params_"
   ]
  },
  {
   "cell_type": "code",
   "execution_count": 21,
   "id": "3cbe9491",
   "metadata": {},
   "outputs": [
    {
     "name": "stdout",
     "output_type": "stream",
     "text": [
      "              precision    recall  f1-score   support\n",
      "\n",
      "         0.0       0.80      0.81      0.81        97\n",
      "         1.0       0.86      0.85      0.86       133\n",
      "\n",
      "    accuracy                           0.83       230\n",
      "   macro avg       0.83      0.83      0.83       230\n",
      "weighted avg       0.84      0.83      0.83       230\n",
      "\n"
     ]
    },
    {
     "name": "stderr",
     "output_type": "stream",
     "text": [
      "C:\\Users\\John\\anaconda3\\envs\\DataScience\\lib\\site-packages\\sklearn\\neural_network\\_multilayer_perceptron.py:614: ConvergenceWarning: Stochastic Optimizer: Maximum iterations (1000) reached and the optimization hasn't converged yet.\n",
      "  warnings.warn(\n"
     ]
    }
   ],
   "source": [
    "mlp = MLPClassifier(hidden_layer_sizes=grid_result.best_params_['hidden_layer_sizes'], \n",
    "                    activation=grid_result.best_params_['activation'], solver=grid_result.best_params_['solver'],\n",
    "                    alpha=grid_result.best_params_['alpha'],\n",
    "                    learning_rate=grid_result.best_params_['learning_rate'], max_iter=1000)\n",
    "\n",
    "mlp.fit(X_train, y_train)\n",
    "\n",
    "print(classification_report(y_test, mlp.predict(X_test)))"
   ]
  },
  {
   "cell_type": "markdown",
   "id": "fa2021e6",
   "metadata": {},
   "source": [
    "### PSO"
   ]
  },
  {
   "cell_type": "code",
   "execution_count": 28,
   "id": "c23cf2ec",
   "metadata": {},
   "outputs": [
    {
     "name": "stderr",
     "output_type": "stream",
     "text": [
      "2021-11-07 14:41:12,548 - pyswarms.single.global_best - INFO - Optimize for 1000 iters with {'c1': 0.3, 'c2': 0.3, 'w': 0.5}\n",
      "pyswarms.single.global_best:   0%|                                                             |1/1000, best_cost=0.161C:\\Users\\John\\anaconda3\\envs\\DataScience\\lib\\site-packages\\sklearn\\neural_network\\_multilayer_perceptron.py:614: ConvergenceWarning: Stochastic Optimizer: Maximum iterations (1000) reached and the optimization hasn't converged yet.\n",
      "  warnings.warn(\n",
      "pyswarms.single.global_best: 100%|██████████████████████████████████████████████████████████|1000/1000, best_cost=0.152\n",
      "2021-11-07 15:28:44,779 - pyswarms.single.global_best - INFO - Optimization finished | best cost: 0.15217391304347827, best pos: [124.73396437 108.73229564   1.41256763   1.87373794   1.08157109\n",
      "   2.34403469]\n"
     ]
    }
   ],
   "source": [
    "# Função fitness\n",
    "def fitness(p,X_train,y_train,X_test,y_test):\n",
    "\n",
    "# p é a matriz com os valores dos bounds\n",
    "    if int(p[0,2])==1:\n",
    "        activation = 'tanh'\n",
    "    else:\n",
    "        activation = 'relu'\n",
    "    \n",
    "    if int(p[0,3])==1:\n",
    "        solver = 'sgd'\n",
    "    else:\n",
    "        solver = 'adam'\n",
    "        \n",
    "    if int(p[0,4])==1:\n",
    "        alpha = 0.0001\n",
    "    else:\n",
    "        alpha = 0.05\n",
    "        \n",
    "    if int(p[0,5])==1:\n",
    "        learning_rate = 'constante'\n",
    "    else:\n",
    "        learning_rate = 'adaptive'\n",
    "        \n",
    "    mlp = MLPClassifier(hidden_layer_sizes=(int(p[0,0]),int(p[0,1])), \n",
    "                    activation=activation, solver=solver,\n",
    "                    alpha=alpha,\n",
    "                    learning_rate=learning_rate, max_iter=1000)\n",
    "    mlp.fit(X_train, y_train)\n",
    "\n",
    "    # Buscando a acurácia\n",
    "    acc = classification_report(y_test, mlp.predict(X_test), output_dict=True)['accuracy']\n",
    "    # A acurácia (acc) é uma função linear que varia de 0% a 100%. Logo o seu mínimo é 0% e o seu mínimo representa o\n",
    "    # pior caso. No entanto, queremos o melhor caso -> tendência para 100%\n",
    "    # Como o PSO trabalha referenciando o mínimo da função como o melhor caso, então temos que retornar 1-acc\n",
    "    # tendência para 100%\n",
    "    return 1-acc \n",
    "\n",
    "# Limites da fronteira do PSO -> são os hiperparâmetros de MLP que serão referênciados na função fitness\n",
    "# Note que na função fitness estamos considerando 5 hiperparâmetros - note a função MLPClassifier()\n",
    "max_bound = np.array([128,128,3,3,3,3])\n",
    "# Menor valor de k 1\n",
    "min_bound = np.array([8,8,1,1,1,1])\n",
    "bounds = (min_bound, max_bound)\n",
    "\n",
    "# Hiperparametros do PSO\n",
    "options = {'c1': 0.3, 'c2': 0.3, 'w': 0.5}\n",
    "# Otimizador do PSO\n",
    "optimizer = GlobalBestPSO(n_particles=10, dimensions=6, options=options, bounds = bounds )\n",
    "# Buscando os melhores valores para os hiperparâmetros da MLP (pos)\n",
    "cost, pos = optimizer.optimize(fitness,iters=1000,X_train=X_train ,y_train=y_train,X_test=X_test,y_test=y_test)"
   ]
  },
  {
   "cell_type": "code",
   "execution_count": 29,
   "id": "f1bba72f",
   "metadata": {},
   "outputs": [
    {
     "name": "stdout",
     "output_type": "stream",
     "text": [
      "[124.73396437 108.73229564   1.41256763   1.87373794   1.08157109\n",
      "   2.34403469]\n"
     ]
    }
   ],
   "source": [
    "print(pos)"
   ]
  },
  {
   "cell_type": "code",
   "execution_count": 30,
   "id": "09cfa4fc",
   "metadata": {},
   "outputs": [
    {
     "name": "stdout",
     "output_type": "stream",
     "text": [
      "              precision    recall  f1-score   support\n",
      "\n",
      "         0.0       0.79      0.84      0.81        97\n",
      "         1.0       0.87      0.83      0.85       133\n",
      "\n",
      "    accuracy                           0.83       230\n",
      "   macro avg       0.83      0.83      0.83       230\n",
      "weighted avg       0.84      0.83      0.84       230\n",
      "\n"
     ]
    }
   ],
   "source": [
    "if int(pos[2])==1:\n",
    "    activation = 'tanh'\n",
    "else:\n",
    "    activation = 'relu'\n",
    "    \n",
    "if int(pos[3])==1:\n",
    "    solver = 'sgd'\n",
    "else:\n",
    "    solver = 'adam'\n",
    "        \n",
    "if int(pos[4])==1:\n",
    "    alpha = 0.0001\n",
    "else:\n",
    "    alpha = 0.05\n",
    "        \n",
    "if int(pos[5])==1:\n",
    "    learning_rate = 'constante'\n",
    "else:\n",
    "    learning_rate = 'adaptive'\n",
    "\n",
    "mlp = MLPClassifier(hidden_layer_sizes=(int(pos[0]),int(pos[1])), \n",
    "                    activation=activation, solver=solver,\n",
    "                    alpha=alpha,\n",
    "                    learning_rate=learning_rate, max_iter=1000)\n",
    "\n",
    "mlp.fit(X_train, y_train)\n",
    "\n",
    "print(classification_report(y_test, mlp.predict(X_test)))"
   ]
  },
  {
   "cell_type": "code",
   "execution_count": null,
   "id": "89490d5b",
   "metadata": {},
   "outputs": [],
   "source": []
  },
  {
   "cell_type": "code",
   "execution_count": null,
   "id": "9392506f",
   "metadata": {},
   "outputs": [],
   "source": []
  }
 ],
 "metadata": {
  "kernelspec": {
   "display_name": "Python 3 (ipykernel)",
   "language": "python",
   "name": "python3"
  },
  "language_info": {
   "codemirror_mode": {
    "name": "ipython",
    "version": 3
   },
   "file_extension": ".py",
   "mimetype": "text/x-python",
   "name": "python",
   "nbconvert_exporter": "python",
   "pygments_lexer": "ipython3",
   "version": "3.8.11"
  }
 },
 "nbformat": 4,
 "nbformat_minor": 5
}
